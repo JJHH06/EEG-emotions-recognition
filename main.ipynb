{
 "cells": [
  {
   "attachments": {},
   "cell_type": "markdown",
   "metadata": {},
   "source": [
    "# Prototipo funcional 1\n",
    "#### Jose Hurtarte 19707"
   ]
  },
  {
   "cell_type": "code",
   "execution_count": 12,
   "metadata": {},
   "outputs": [],
   "source": [
    "import pandas as pd\n",
    "import numpy as np\n",
    "from sklearn.decomposition import PCA\n",
    "from sklearn.preprocessing import StandardScaler\n",
    "import matplotlib.pyplot as plt\n",
    "from sklearn.cluster import KMeans\n",
    "import matplotlib.pyplot as plt\n",
    "from mpl_toolkits.mplot3d import Axes3D\n"
   ]
  },
  {
   "cell_type": "code",
   "execution_count": 3,
   "metadata": {},
   "outputs": [],
   "source": [
    "# Cargar el dataset\n",
    "data = pd.read_csv('data.csv', delimiter=';')\n"
   ]
  },
  {
   "cell_type": "code",
   "execution_count": 4,
   "metadata": {},
   "outputs": [
    {
     "data": {
      "text/html": [
       "<div>\n",
       "<style scoped>\n",
       "    .dataframe tbody tr th:only-of-type {\n",
       "        vertical-align: middle;\n",
       "    }\n",
       "\n",
       "    .dataframe tbody tr th {\n",
       "        vertical-align: top;\n",
       "    }\n",
       "\n",
       "    .dataframe thead th {\n",
       "        text-align: right;\n",
       "    }\n",
       "</style>\n",
       "<table border=\"1\" class=\"dataframe\">\n",
       "  <thead>\n",
       "    <tr style=\"text-align: right;\">\n",
       "      <th></th>\n",
       "      <th>Electrodo1</th>\n",
       "      <th>Electrodo2</th>\n",
       "      <th>Electrodo3</th>\n",
       "      <th>Electrodo4</th>\n",
       "      <th>Electrodo5</th>\n",
       "      <th>Electrodo6</th>\n",
       "      <th>Electrodo7</th>\n",
       "      <th>Electrodo8</th>\n",
       "      <th>Electrodo9</th>\n",
       "      <th>Electrodo10</th>\n",
       "      <th>Electrodo11</th>\n",
       "      <th>Electrodo12</th>\n",
       "      <th>Electrodo13</th>\n",
       "      <th>Electrodo14</th>\n",
       "    </tr>\n",
       "  </thead>\n",
       "  <tbody>\n",
       "    <tr>\n",
       "      <th>0</th>\n",
       "      <td>34.5</td>\n",
       "      <td>23.2</td>\n",
       "      <td>42.1</td>\n",
       "      <td>37.6</td>\n",
       "      <td>25.8</td>\n",
       "      <td>22.4</td>\n",
       "      <td>18.7</td>\n",
       "      <td>45.3</td>\n",
       "      <td>33.6</td>\n",
       "      <td>30.1</td>\n",
       "      <td>29.8</td>\n",
       "      <td>28.7</td>\n",
       "      <td>19.3</td>\n",
       "      <td>21.1</td>\n",
       "    </tr>\n",
       "    <tr>\n",
       "      <th>1</th>\n",
       "      <td>32.6</td>\n",
       "      <td>22.4</td>\n",
       "      <td>40.3</td>\n",
       "      <td>36.8</td>\n",
       "      <td>24.7</td>\n",
       "      <td>21.6</td>\n",
       "      <td>17.8</td>\n",
       "      <td>44.2</td>\n",
       "      <td>31.7</td>\n",
       "      <td>28.9</td>\n",
       "      <td>27.6</td>\n",
       "      <td>26.5</td>\n",
       "      <td>18.5</td>\n",
       "      <td>20.2</td>\n",
       "    </tr>\n",
       "    <tr>\n",
       "      <th>2</th>\n",
       "      <td>30.7</td>\n",
       "      <td>21.6</td>\n",
       "      <td>38.5</td>\n",
       "      <td>36.0</td>\n",
       "      <td>23.6</td>\n",
       "      <td>20.8</td>\n",
       "      <td>17.0</td>\n",
       "      <td>43.1</td>\n",
       "      <td>29.8</td>\n",
       "      <td>27.7</td>\n",
       "      <td>25.4</td>\n",
       "      <td>24.3</td>\n",
       "      <td>17.7</td>\n",
       "      <td>19.3</td>\n",
       "    </tr>\n",
       "    <tr>\n",
       "      <th>3</th>\n",
       "      <td>28.8</td>\n",
       "      <td>20.8</td>\n",
       "      <td>36.7</td>\n",
       "      <td>34.2</td>\n",
       "      <td>22.5</td>\n",
       "      <td>19.9</td>\n",
       "      <td>16.2</td>\n",
       "      <td>42.0</td>\n",
       "      <td>28.9</td>\n",
       "      <td>26.5</td>\n",
       "      <td>24.2</td>\n",
       "      <td>23.1</td>\n",
       "      <td>16.9</td>\n",
       "      <td>18.5</td>\n",
       "    </tr>\n",
       "    <tr>\n",
       "      <th>4</th>\n",
       "      <td>26.9</td>\n",
       "      <td>19.9</td>\n",
       "      <td>34.9</td>\n",
       "      <td>32.4</td>\n",
       "      <td>21.4</td>\n",
       "      <td>19.1</td>\n",
       "      <td>15.4</td>\n",
       "      <td>40.9</td>\n",
       "      <td>27.0</td>\n",
       "      <td>24.6</td>\n",
       "      <td>22.8</td>\n",
       "      <td>21.9</td>\n",
       "      <td>16.1</td>\n",
       "      <td>17.7</td>\n",
       "    </tr>\n",
       "  </tbody>\n",
       "</table>\n",
       "</div>"
      ],
      "text/plain": [
       "   Electrodo1  Electrodo2  Electrodo3  Electrodo4  Electrodo5  Electrodo6  \\\n",
       "0        34.5        23.2        42.1        37.6        25.8        22.4   \n",
       "1        32.6        22.4        40.3        36.8        24.7        21.6   \n",
       "2        30.7        21.6        38.5        36.0        23.6        20.8   \n",
       "3        28.8        20.8        36.7        34.2        22.5        19.9   \n",
       "4        26.9        19.9        34.9        32.4        21.4        19.1   \n",
       "\n",
       "   Electrodo7  Electrodo8  Electrodo9  Electrodo10  Electrodo11  Electrodo12  \\\n",
       "0        18.7        45.3        33.6         30.1         29.8         28.7   \n",
       "1        17.8        44.2        31.7         28.9         27.6         26.5   \n",
       "2        17.0        43.1        29.8         27.7         25.4         24.3   \n",
       "3        16.2        42.0        28.9         26.5         24.2         23.1   \n",
       "4        15.4        40.9        27.0         24.6         22.8         21.9   \n",
       "\n",
       "   Electrodo13  Electrodo14  \n",
       "0         19.3         21.1  \n",
       "1         18.5         20.2  \n",
       "2         17.7         19.3  \n",
       "3         16.9         18.5  \n",
       "4         16.1         17.7  "
      ]
     },
     "execution_count": 4,
     "metadata": {},
     "output_type": "execute_result"
    }
   ],
   "source": [
    "# Extraer las columnas de los electrodos\n",
    "electrodes_data = data.iloc[:, 2:16]\n",
    "electrodes_data.head()"
   ]
  },
  {
   "cell_type": "code",
   "execution_count": 5,
   "metadata": {},
   "outputs": [],
   "source": [
    "# Estandarizar los datos\n",
    "scaler = StandardScaler()\n",
    "scaled_data = scaler.fit_transform(electrodes_data)"
   ]
  },
  {
   "cell_type": "code",
   "execution_count": 68,
   "metadata": {},
   "outputs": [],
   "source": [
    "# Aplicar PCA\n",
    "pca = PCA()\n",
    "pca_data = pca.fit_transform(scaled_data)"
   ]
  },
  {
   "cell_type": "code",
   "execution_count": 69,
   "metadata": {},
   "outputs": [
    {
     "data": {
      "image/png": "[encoded data removed]",
      "text/plain": [
       "<Figure size 432x288 with 1 Axes>"
      ]
     },
     "metadata": {
      "needs_background": "light"
     },
     "output_type": "display_data"
    }
   ],
   "source": [
    "# Calcular la varianza explicada acumulada\n",
    "explained_variance_ratio = np.cumsum(pca.explained_variance_ratio_)\n",
    "# Graficar la varianza explicada acumulada\n",
    "plt.plot(range(1, len(explained_variance_ratio) + 1), explained_variance_ratio, marker='o')\n",
    "plt.xlabel('Número de componentes principales')\n",
    "plt.ylabel('Varianza explicada acumulada')\n",
    "plt.title('Varianza explicada acumulada vs. número de componentes principales')\n",
    "plt.show()"
   ]
  },
  {
   "cell_type": "code",
   "execution_count": 70,
   "metadata": {},
   "outputs": [
    {
     "data": {
      "text/html": [
       "<div>\n",
       "<style scoped>\n",
       "    .dataframe tbody tr th:only-of-type {\n",
       "        vertical-align: middle;\n",
       "    }\n",
       "\n",
       "    .dataframe tbody tr th {\n",
       "        vertical-align: top;\n",
       "    }\n",
       "\n",
       "    .dataframe thead th {\n",
       "        text-align: right;\n",
       "    }\n",
       "</style>\n",
       "<table border=\"1\" class=\"dataframe\">\n",
       "  <thead>\n",
       "    <tr style=\"text-align: right;\">\n",
       "      <th></th>\n",
       "      <th>PC1</th>\n",
       "      <th>PC2</th>\n",
       "      <th>PC3</th>\n",
       "    </tr>\n",
       "  </thead>\n",
       "  <tbody>\n",
       "    <tr>\n",
       "      <th>0</th>\n",
       "      <td>-3.159292</td>\n",
       "      <td>-1.114978</td>\n",
       "      <td>0.081066</td>\n",
       "    </tr>\n",
       "    <tr>\n",
       "      <th>1</th>\n",
       "      <td>-1.251215</td>\n",
       "      <td>-1.147150</td>\n",
       "      <td>-0.304348</td>\n",
       "    </tr>\n",
       "    <tr>\n",
       "      <th>2</th>\n",
       "      <td>0.642431</td>\n",
       "      <td>-1.166607</td>\n",
       "      <td>-0.676239</td>\n",
       "    </tr>\n",
       "    <tr>\n",
       "      <th>3</th>\n",
       "      <td>2.356629</td>\n",
       "      <td>-1.249732</td>\n",
       "      <td>-0.658491</td>\n",
       "    </tr>\n",
       "    <tr>\n",
       "      <th>4</th>\n",
       "      <td>4.220096</td>\n",
       "      <td>-1.138495</td>\n",
       "      <td>-0.569525</td>\n",
       "    </tr>\n",
       "    <tr>\n",
       "      <th>5</th>\n",
       "      <td>6.081495</td>\n",
       "      <td>-1.028793</td>\n",
       "      <td>-0.469112</td>\n",
       "    </tr>\n",
       "    <tr>\n",
       "      <th>6</th>\n",
       "      <td>-4.816916</td>\n",
       "      <td>-0.726533</td>\n",
       "      <td>0.064298</td>\n",
       "    </tr>\n",
       "    <tr>\n",
       "      <th>7</th>\n",
       "      <td>-3.112168</td>\n",
       "      <td>-1.094020</td>\n",
       "      <td>0.091630</td>\n",
       "    </tr>\n",
       "    <tr>\n",
       "      <th>8</th>\n",
       "      <td>-1.120950</td>\n",
       "      <td>-1.061062</td>\n",
       "      <td>-0.225853</td>\n",
       "    </tr>\n",
       "    <tr>\n",
       "      <th>9</th>\n",
       "      <td>0.772696</td>\n",
       "      <td>-1.080519</td>\n",
       "      <td>-0.597745</td>\n",
       "    </tr>\n",
       "    <tr>\n",
       "      <th>10</th>\n",
       "      <td>2.530749</td>\n",
       "      <td>-1.201196</td>\n",
       "      <td>-0.550911</td>\n",
       "    </tr>\n",
       "    <tr>\n",
       "      <th>11</th>\n",
       "      <td>4.452690</td>\n",
       "      <td>-1.140027</td>\n",
       "      <td>-0.423165</td>\n",
       "    </tr>\n",
       "    <tr>\n",
       "      <th>12</th>\n",
       "      <td>6.357944</td>\n",
       "      <td>-1.067875</td>\n",
       "      <td>-0.293666</td>\n",
       "    </tr>\n",
       "    <tr>\n",
       "      <th>13</th>\n",
       "      <td>-6.154752</td>\n",
       "      <td>-0.421087</td>\n",
       "      <td>0.008110</td>\n",
       "    </tr>\n",
       "    <tr>\n",
       "      <th>14</th>\n",
       "      <td>-4.345487</td>\n",
       "      <td>-0.470300</td>\n",
       "      <td>0.118606</td>\n",
       "    </tr>\n",
       "    <tr>\n",
       "      <th>15</th>\n",
       "      <td>-2.453081</td>\n",
       "      <td>-0.454384</td>\n",
       "      <td>0.297032</td>\n",
       "    </tr>\n",
       "    <tr>\n",
       "      <th>16</th>\n",
       "      <td>-0.574669</td>\n",
       "      <td>-0.412448</td>\n",
       "      <td>0.461321</td>\n",
       "    </tr>\n",
       "    <tr>\n",
       "      <th>17</th>\n",
       "      <td>1.289124</td>\n",
       "      <td>-0.357996</td>\n",
       "      <td>0.615914</td>\n",
       "    </tr>\n",
       "    <tr>\n",
       "      <th>18</th>\n",
       "      <td>3.167536</td>\n",
       "      <td>-0.316061</td>\n",
       "      <td>0.780202</td>\n",
       "    </tr>\n",
       "    <tr>\n",
       "      <th>19</th>\n",
       "      <td>-5.587326</td>\n",
       "      <td>-0.086005</td>\n",
       "      <td>0.027840</td>\n",
       "    </tr>\n",
       "    <tr>\n",
       "      <th>20</th>\n",
       "      <td>-3.752145</td>\n",
       "      <td>0.006983</td>\n",
       "      <td>0.158600</td>\n",
       "    </tr>\n",
       "    <tr>\n",
       "      <th>21</th>\n",
       "      <td>-1.916965</td>\n",
       "      <td>0.099972</td>\n",
       "      <td>0.289361</td>\n",
       "    </tr>\n",
       "    <tr>\n",
       "      <th>22</th>\n",
       "      <td>-0.081785</td>\n",
       "      <td>0.192960</td>\n",
       "      <td>0.420121</td>\n",
       "    </tr>\n",
       "    <tr>\n",
       "      <th>23</th>\n",
       "      <td>1.753396</td>\n",
       "      <td>0.285948</td>\n",
       "      <td>0.550882</td>\n",
       "    </tr>\n",
       "    <tr>\n",
       "      <th>24</th>\n",
       "      <td>3.588576</td>\n",
       "      <td>0.378937</td>\n",
       "      <td>0.681643</td>\n",
       "    </tr>\n",
       "    <tr>\n",
       "      <th>25</th>\n",
       "      <td>5.395331</td>\n",
       "      <td>0.510659</td>\n",
       "      <td>0.811788</td>\n",
       "    </tr>\n",
       "    <tr>\n",
       "      <th>26</th>\n",
       "      <td>7.215086</td>\n",
       "      <td>0.600544</td>\n",
       "      <td>0.901851</td>\n",
       "    </tr>\n",
       "    <tr>\n",
       "      <th>27</th>\n",
       "      <td>-4.444874</td>\n",
       "      <td>-0.241321</td>\n",
       "      <td>-0.027242</td>\n",
       "    </tr>\n",
       "    <tr>\n",
       "      <th>28</th>\n",
       "      <td>-2.609693</td>\n",
       "      <td>-0.148332</td>\n",
       "      <td>0.103519</td>\n",
       "    </tr>\n",
       "    <tr>\n",
       "      <th>29</th>\n",
       "      <td>-0.774513</td>\n",
       "      <td>-0.055344</td>\n",
       "      <td>0.234280</td>\n",
       "    </tr>\n",
       "    <tr>\n",
       "      <th>30</th>\n",
       "      <td>1.060667</td>\n",
       "      <td>0.037644</td>\n",
       "      <td>0.365040</td>\n",
       "    </tr>\n",
       "    <tr>\n",
       "      <th>31</th>\n",
       "      <td>2.895848</td>\n",
       "      <td>0.130633</td>\n",
       "      <td>0.495801</td>\n",
       "    </tr>\n",
       "    <tr>\n",
       "      <th>32</th>\n",
       "      <td>4.714400</td>\n",
       "      <td>0.210595</td>\n",
       "      <td>0.612975</td>\n",
       "    </tr>\n",
       "    <tr>\n",
       "      <th>33</th>\n",
       "      <td>-5.866164</td>\n",
       "      <td>-0.081886</td>\n",
       "      <td>-0.021075</td>\n",
       "    </tr>\n",
       "    <tr>\n",
       "      <th>34</th>\n",
       "      <td>-3.918716</td>\n",
       "      <td>0.066957</td>\n",
       "      <td>0.094237</td>\n",
       "    </tr>\n",
       "    <tr>\n",
       "      <th>35</th>\n",
       "      <td>-2.044834</td>\n",
       "      <td>0.149110</td>\n",
       "      <td>0.218152</td>\n",
       "    </tr>\n",
       "    <tr>\n",
       "      <th>36</th>\n",
       "      <td>-0.170952</td>\n",
       "      <td>0.231264</td>\n",
       "      <td>0.342066</td>\n",
       "    </tr>\n",
       "    <tr>\n",
       "      <th>37</th>\n",
       "      <td>1.702929</td>\n",
       "      <td>0.313417</td>\n",
       "      <td>0.465980</td>\n",
       "    </tr>\n",
       "    <tr>\n",
       "      <th>38</th>\n",
       "      <td>3.567355</td>\n",
       "      <td>0.393160</td>\n",
       "      <td>0.609366</td>\n",
       "    </tr>\n",
       "    <tr>\n",
       "      <th>39</th>\n",
       "      <td>-5.176883</td>\n",
       "      <td>0.699193</td>\n",
       "      <td>-0.112952</td>\n",
       "    </tr>\n",
       "    <tr>\n",
       "      <th>40</th>\n",
       "      <td>-3.113863</td>\n",
       "      <td>0.760840</td>\n",
       "      <td>-0.315143</td>\n",
       "    </tr>\n",
       "    <tr>\n",
       "      <th>41</th>\n",
       "      <td>-1.034561</td>\n",
       "      <td>0.833248</td>\n",
       "      <td>-0.507521</td>\n",
       "    </tr>\n",
       "    <tr>\n",
       "      <th>42</th>\n",
       "      <td>1.044742</td>\n",
       "      <td>0.905656</td>\n",
       "      <td>-0.699900</td>\n",
       "    </tr>\n",
       "    <tr>\n",
       "      <th>43</th>\n",
       "      <td>3.116076</td>\n",
       "      <td>0.973816</td>\n",
       "      <td>-0.895297</td>\n",
       "    </tr>\n",
       "    <tr>\n",
       "      <th>44</th>\n",
       "      <td>-5.274692</td>\n",
       "      <td>1.401169</td>\n",
       "      <td>0.053748</td>\n",
       "    </tr>\n",
       "    <tr>\n",
       "      <th>45</th>\n",
       "      <td>-3.195389</td>\n",
       "      <td>1.473576</td>\n",
       "      <td>-0.138631</td>\n",
       "    </tr>\n",
       "    <tr>\n",
       "      <th>46</th>\n",
       "      <td>-1.116086</td>\n",
       "      <td>1.545984</td>\n",
       "      <td>-0.331009</td>\n",
       "    </tr>\n",
       "    <tr>\n",
       "      <th>47</th>\n",
       "      <td>0.963216</td>\n",
       "      <td>1.618392</td>\n",
       "      <td>-0.523388</td>\n",
       "    </tr>\n",
       "    <tr>\n",
       "      <th>48</th>\n",
       "      <td>3.042519</td>\n",
       "      <td>1.690800</td>\n",
       "      <td>-0.715767</td>\n",
       "    </tr>\n",
       "    <tr>\n",
       "      <th>49</th>\n",
       "      <td>5.136440</td>\n",
       "      <td>1.750691</td>\n",
       "      <td>-0.898450</td>\n",
       "    </tr>\n",
       "  </tbody>\n",
       "</table>\n",
       "</div>"
      ],
      "text/plain": [
       "         PC1       PC2       PC3\n",
       "0  -3.159292 -1.114978  0.081066\n",
       "1  -1.251215 -1.147150 -0.304348\n",
       "2   0.642431 -1.166607 -0.676239\n",
       "3   2.356629 -1.249732 -0.658491\n",
       "4   4.220096 -1.138495 -0.569525\n",
       "5   6.081495 -1.028793 -0.469112\n",
       "6  -4.816916 -0.726533  0.064298\n",
       "7  -3.112168 -1.094020  0.091630\n",
       "8  -1.120950 -1.061062 -0.225853\n",
       "9   0.772696 -1.080519 -0.597745\n",
       "10  2.530749 -1.201196 -0.550911\n",
       "11  4.452690 -1.140027 -0.423165\n",
       "12  6.357944 -1.067875 -0.293666\n",
       "13 -6.154752 -0.421087  0.008110\n",
       "14 -4.345487 -0.470300  0.118606\n",
       "15 -2.453081 -0.454384  0.297032\n",
       "16 -0.574669 -0.412448  0.461321\n",
       "17  1.289124 -0.357996  0.615914\n",
       "18  3.167536 -0.316061  0.780202\n",
       "19 -5.587326 -0.086005  0.027840\n",
       "20 -3.752145  0.006983  0.158600\n",
       "21 -1.916965  0.099972  0.289361\n",
       "22 -0.081785  0.192960  0.420121\n",
       "23  1.753396  0.285948  0.550882\n",
       "24  3.588576  0.378937  0.681643\n",
       "25  5.395331  0.510659  0.811788\n",
       "26  7.215086  0.600544  0.901851\n",
       "27 -4.444874 -0.241321 -0.027242\n",
       "28 -2.609693 -0.148332  0.103519\n",
       "29 -0.774513 -0.055344  0.234280\n",
       "30  1.060667  0.037644  0.365040\n",
       "31  2.895848  0.130633  0.495801\n",
       "32  4.714400  0.210595  0.612975\n",
       "33 -5.866164 -0.081886 -0.021075\n",
       "34 -3.918716  0.066957  0.094237\n",
       "35 -2.044834  0.149110  0.218152\n",
       "36 -0.170952  0.231264  0.342066\n",
       "37  1.702929  0.313417  0.465980\n",
       "38  3.567355  0.393160  0.609366\n",
       "39 -5.176883  0.699193 -0.112952\n",
       "40 -3.113863  0.760840 -0.315143\n",
       "41 -1.034561  0.833248 -0.507521\n",
       "42  1.044742  0.905656 -0.699900\n",
       "43  3.116076  0.973816 -0.895297\n",
       "44 -5.274692  1.401169  0.053748\n",
       "45 -3.195389  1.473576 -0.138631\n",
       "46 -1.116086  1.545984 -0.331009\n",
       "47  0.963216  1.618392 -0.523388\n",
       "48  3.042519  1.690800 -0.715767\n",
       "49  5.136440  1.750691 -0.898450"
      ]
     },
     "execution_count": 70,
     "metadata": {},
     "output_type": "execute_result"
    }
   ],
   "source": [
    "n_components = 3\n",
    "pca = PCA(n_components=n_components)\n",
    "reduced_data = pca.fit_transform(scaled_data)\n",
    "reduced_data\n",
    "\n",
    "reduced_data = pd.DataFrame(reduced_data, columns=['PC1', 'PC2', 'PC3'])\n",
    "reduced_data\n"
   ]
  },
  {
   "cell_type": "code",
   "execution_count": 71,
   "metadata": {},
   "outputs": [
    {
     "data": {
      "image/png": "[encoded data removed]",
      "text/plain": [
       "<Figure size 432x288 with 1 Axes>"
      ]
     },
     "metadata": {
      "needs_background": "light"
     },
     "output_type": "display_data"
    }
   ],
   "source": [
    "#make a 3d plot of the data\n",
    "fig = plt.figure()\n",
    "ax = fig.add_subplot(111, projection='3d')\n",
    "ax.scatter(reduced_data['PC1'], reduced_data['PC2'], reduced_data['PC3'], c='r', marker='o')\n",
    "ax.set_xlabel('PC1')\n",
    "ax.set_ylabel('PC2')\n",
    "ax.set_zlabel('PC3')\n",
    "plt.show()"
   ]
  },
  {
   "cell_type": "code",
   "execution_count": 72,
   "metadata": {},
   "outputs": [],
   "source": [
    "#para el calculo del metodo del codo\n",
    "inertia = []\n",
    "max_clusters = 10\n",
    "for i in range(1, max_clusters + 1):\n",
    "    kmeans = KMeans(n_clusters=i, random_state=0)\n",
    "    kmeans.fit(reduced_data)\n",
    "    inertia.append(kmeans.inertia_)"
   ]
  },
  {
   "cell_type": "code",
   "execution_count": 73,
   "metadata": {},
   "outputs": [
    {
     "data": {
      "image/png": "[encoded data removed]",
      "text/plain": [
       "<Figure size 432x288 with 1 Axes>"
      ]
     },
     "metadata": {
      "needs_background": "light"
     },
     "output_type": "display_data"
    }
   ],
   "source": [
    "# Graficar el método del codo\n",
    "plt.plot(range(1, max_clusters + 1), inertia, marker='o')\n",
    "plt.xlabel('Número de clusters')\n",
    "plt.ylabel('Inercia')\n",
    "plt.title('Método del codo')\n",
    "plt.show()"
   ]
  },
  {
   "cell_type": "code",
   "execution_count": 76,
   "metadata": {},
   "outputs": [],
   "source": [
    "\n",
    "# Establecer las coordenadas de los centroides iniciales\n",
    "initial_centroids = np.array([[2.357, -1.25, -0.6585],\n",
    "                              [3.042, 1.69, -0.716],\n",
    "                              [3.589, 0.38, 0.68]])\n",
    "\n",
    "\n",
    "# Crear la instancia de KMeans con los centroides iniciales\n",
    "optimal_clusters = 3\n",
    "kmeans = KMeans(n_clusters=optimal_clusters, init=initial_centroids, n_init=1, random_state=0)\n",
    "\n",
    "# Ajustar el modelo a los datos reducidos y predecir las etiquetas de los clusters\n",
    "labels = kmeans.fit_predict(reduced_data)"
   ]
  },
  {
   "cell_type": "code",
   "execution_count": 77,
   "metadata": {},
   "outputs": [
    {
     "data": {
      "image/png": "[encoded data removed]",
      "text/plain": [
       "<Figure size 720x576 with 1 Axes>"
      ]
     },
     "metadata": {
      "needs_background": "light"
     },
     "output_type": "display_data"
    }
   ],
   "source": [
    "\n",
    "\n",
    "# Agregar las etiquetas de los clusters al DataFrame\n",
    "reduced_data['Cluster'] = labels\n",
    "fig = plt.figure(figsize=(10, 8))\n",
    "ax = fig.add_subplot(111, projection='3d')\n",
    "\n",
    "# Graficar los puntos en función de los clusters\n",
    "for cluster in range(optimal_clusters):\n",
    "    cluster_data = reduced_data[reduced_data['Cluster'] == cluster]\n",
    "    ax.scatter(cluster_data['PC1'], cluster_data['PC2'], cluster_data['PC3'], label=f'Cluster {cluster}')\n",
    "\n",
    "# Graficar los centroides\n",
    "centroid_colors = ['r', 'g', 'b', 'y', 'c', 'm', 'k', 'pink', 'orange', 'purple']\n",
    "for i, centroid in enumerate(kmeans.cluster_centers_):\n",
    "    ax.scatter(centroid[0], centroid[1], centroid[2], marker='*', s=200, color=centroid_colors[i], label=f'Centroide {i}')\n",
    "\n",
    "ax.set_xlabel('PC1')\n",
    "ax.set_ylabel('PC2')\n",
    "ax.set_zlabel('PC3')\n",
    "ax.legend()\n",
    "plt.title('Clusters en 3D y Centroides')\n",
    "plt.show()\n"
   ]
  },
  {
   "cell_type": "code",
   "execution_count": 78,
   "metadata": {},
   "outputs": [
    {
     "data": {
      "application/vnd.plotly.v1+json": {
       "config": {
        "plotlyServerURL": "https://plot.ly"
       },
       "data": [
        {
         "hovertemplate": "Cluster=0<br>PC1=%{x}<br>PC2=%{y}<br>PC3=%{z}<extra></extra>",
         "legendgroup": "0",
         "marker": {
          "color": "#636efa",
          "opacity": 0.7,
          "symbol": "circle"
         },
         "mode": "markers",
         "name": "0",
         "scene": "scene",
         "showlegend": true,
         "type": "scatter3d",
         "x": [
          -3.159291548986113,
          -4.816916330456234,
          -3.112168202849106,
          -6.1547521489455015,
          -4.345487122882278,
          -2.4530810396500202,
          -5.587325542735788,
          -3.752145213344243,
          -1.9169648839526994,
          -4.444873753274515,
          -2.6096934238829723,
          -5.866163787457931,
          -3.9187157378777076,
          -2.0448341109134502,
          -5.176882990260559,
          -3.1138633000242666,
          -5.27469193335313,
          -3.195389192703581
         ],
         "y": [
          -1.1149776070399124,
          -0.7265329075788914,
          -1.0940197060817691,
          -0.42108688603645494,
          -0.47030020885407425,
          -0.4543837557092522,
          -0.08600484345595732,
          0.00698348333942278,
          0.09997181013480355,
          -0.24132068396288914,
          -0.14833235716750903,
          -0.08188631440948821,
          0.06695702802962407,
          0.14911033984670585,
          0.6991932043618708,
          0.760840140183987,
          1.401168536753547,
          1.4735764321907356
         ],
         "z": [
          0.08106555615476589,
          0.06429764376579403,
          0.09163029168650964,
          0.008110295654969816,
          0.11860641154478677,
          0.29703235111780313,
          0.02783954994005691,
          0.1586001475208694,
          0.2893607451016827,
          -0.027241641060562923,
          0.1035189565202496,
          -0.021074739692978253,
          0.09423731009909087,
          0.21815168452391437,
          -0.1129524614923223,
          -0.3151428300427677,
          0.05374762555243281,
          -0.1386309230961457
         ]
        },
        {
         "hovertemplate": "Cluster=1<br>PC1=%{x}<br>PC2=%{y}<br>PC3=%{z}<extra></extra>",
         "legendgroup": "1",
         "marker": {
          "color": "#EF553B",
          "opacity": 0.7,
          "symbol": "diamond"
         },
         "mode": "markers",
         "name": "1",
         "scene": "scene",
         "showlegend": true,
         "type": "scatter3d",
         "x": [
          -1.2512146914047972,
          0.642431218784256,
          2.3566292990578788,
          -1.120950288098764,
          0.7726956220902873,
          2.5307491303982435,
          -0.5746693573266756,
          1.2891238489852253,
          -0.08178455456115681,
          1.7533957748303872,
          -0.77451309449143,
          1.0606672349001138,
          -0.17095248394919457,
          1.7029291430150617,
          -1.0345605593747198,
          1.0447421812748265,
          -1.1160864520540328,
          0.9632162885955113
         ],
         "y": [
          -1.1471496818542675,
          -1.166607117817047,
          -1.2497323339631448,
          -1.061062004933683,
          -1.080519440896461,
          -1.201195563212145,
          -0.41244833446234663,
          -0.3579959444922454,
          0.19296013693018327,
          0.285948463725563,
          -0.05534403037212857,
          0.037644296423251934,
          0.23126365166378757,
          0.31341696348086845,
          0.8332480356211758,
          0.9056559310583638,
          1.5459843276279244,
          1.6183922230651129
         ],
         "z": [
          -0.3043478166608619,
          -0.6762390658784978,
          -0.6584908175240217,
          -0.22585325744591944,
          -0.597744506663556,
          -0.5509109764376455,
          0.461320713651861,
          0.615913982228776,
          0.42012134268249424,
          0.5508819402633072,
          0.2342795541010609,
          0.3650401516818743,
          0.3420660589487361,
          0.4659804333735588,
          -0.5075213786913458,
          -0.699899927339923,
          -0.33100947174472267,
          -0.5233880203933008
         ]
        },
        {
         "hovertemplate": "Cluster=2<br>PC1=%{x}<br>PC2=%{y}<br>PC3=%{z}<extra></extra>",
         "legendgroup": "2",
         "marker": {
          "color": "#00cc96",
          "opacity": 0.7,
          "symbol": "square"
         },
         "mode": "markers",
         "name": "2",
         "scene": "scene",
         "showlegend": true,
         "type": "scatter3d",
         "x": [
          4.220096256147444,
          6.081495333009583,
          4.452689991533587,
          6.357944496430058,
          3.1675355313085696,
          3.58857610422193,
          5.395331085312303,
          7.215086026923446,
          2.8958475642916572,
          4.714399682249395,
          3.5673546790719657,
          3.116075977228021,
          3.042519029245059,
          5.136440245906048
         ],
         "y": [
          -1.1384954532085407,
          -1.0287927910972872,
          -1.1400265573503243,
          -1.0678748014086576,
          -0.3160605232453397,
          0.3789367905209432,
          0.5106587242699865,
          0.6005444727973536,
          0.130632623218632,
          0.210594994821523,
          0.39316023034913056,
          0.9738158444767238,
          1.6908001185023027,
          1.750691045216296
         ],
         "z": [
          -0.5695249827638429,
          -0.4691116435945579,
          -0.4231647658488894,
          -0.29366614480817127,
          0.7802023447628352,
          0.6816425378441183,
          0.8117876819839663,
          0.9018513481732532,
          0.4958007492626859,
          0.6129753821068584,
          0.6093664872289625,
          -0.8952973135220488,
          -0.7157665690418783,
          -0.8984500237333123
         ]
        }
       ],
       "layout": {
        "height": 800,
        "legend": {
         "title": {
          "text": "Cluster"
         },
         "tracegroupgap": 0
        },
        "margin": {
         "t": 60
        },
        "scene": {
         "domain": {
          "x": [
           0,
           1
          ],
          "y": [
           0,
           1
          ]
         },
         "xaxis": {
          "title": {
           "text": "PC1"
          }
         },
         "yaxis": {
          "title": {
           "text": "PC2"
          }
         },
         "zaxis": {
          "title": {
           "text": "PC3"
          }
         }
        },
        "template": {
         "data": {
          "bar": [
           {
            "error_x": {
             "color": "#2a3f5f"
            },
            "error_y": {
             "color": "#2a3f5f"
            },
            "marker": {
             "line": {
              "color": "#E5ECF6",
              "width": 0.5
             },
             "pattern": {
              "fillmode": "overlay",
              "size": 10,
              "solidity": 0.2
             }
            },
            "type": "bar"
           }
          ],
          "barpolar": [
           {
            "marker": {
             "line": {
              "color": "#E5ECF6",
              "width": 0.5
             },
             "pattern": {
              "fillmode": "overlay",
              "size": 10,
              "solidity": 0.2
             }
            },
            "type": "barpolar"
           }
          ],
          "carpet": [
           {
            "aaxis": {
             "endlinecolor": "#2a3f5f",
             "gridcolor": "white",
             "linecolor": "white",
             "minorgridcolor": "white",
             "startlinecolor": "#2a3f5f"
            },
            "baxis": {
             "endlinecolor": "#2a3f5f",
             "gridcolor": "white",
             "linecolor": "white",
             "minorgridcolor": "white",
             "startlinecolor": "#2a3f5f"
            },
            "type": "carpet"
           }
          ],
          "choropleth": [
           {
            "colorbar": {
             "outlinewidth": 0,
             "ticks": ""
            },
            "type": "choropleth"
           }
          ],
          "contour": [
           {
            "colorbar": {
             "outlinewidth": 0,
             "ticks": ""
            },
            "colorscale": [
             [
              0,
              "#0d0887"
             ],
             [
              0.1111111111111111,
              "#46039f"
             ],
             [
              0.2222222222222222,
              "#7201a8"
             ],
             [
              0.3333333333333333,
              "#9c179e"
             ],
             [
              0.4444444444444444,
              "#bd3786"
             ],
             [
              0.5555555555555556,
              "#d8576b"
             ],
             [
              0.6666666666666666,
              "#ed7953"
             ],
             [
              0.7777777777777778,
              "#fb9f3a"
             ],
             [
              0.8888888888888888,
              "#fdca26"
             ],
             [
              1,
              "#f0f921"
             ]
            ],
            "type": "contour"
           }
          ],
          "contourcarpet": [
           {
            "colorbar": {
             "outlinewidth": 0,
             "ticks": ""
            },
            "type": "contourcarpet"
           }
          ],
          "heatmap": [
           {
            "colorbar": {
             "outlinewidth": 0,
             "ticks": ""
            },
            "colorscale": [
             [
              0,
              "#0d0887"
             ],
             [
              0.1111111111111111,
              "#46039f"
             ],
             [
              0.2222222222222222,
              "#7201a8"
             ],
             [
              0.3333333333333333,
              "#9c179e"
             ],
             [
              0.4444444444444444,
              "#bd3786"
             ],
             [
              0.5555555555555556,
              "#d8576b"
             ],
             [
              0.6666666666666666,
              "#ed7953"
             ],
             [
              0.7777777777777778,
              "#fb9f3a"
             ],
             [
              0.8888888888888888,
              "#fdca26"
             ],
             [
              1,
              "#f0f921"
             ]
            ],
            "type": "heatmap"
           }
          ],
          "heatmapgl": [
           {
            "colorbar": {
             "outlinewidth": 0,
             "ticks": ""
            },
            "colorscale": [
             [
              0,
              "#0d0887"
             ],
             [
              0.1111111111111111,
              "#46039f"
             ],
             [
              0.2222222222222222,
              "#7201a8"
             ],
             [
              0.3333333333333333,
              "#9c179e"
             ],
             [
              0.4444444444444444,
              "#bd3786"
             ],
             [
              0.5555555555555556,
              "#d8576b"
             ],
             [
              0.6666666666666666,
              "#ed7953"
             ],
             [
              0.7777777777777778,
              "#fb9f3a"
             ],
             [
              0.8888888888888888,
              "#fdca26"
             ],
             [
              1,
              "#f0f921"
             ]
            ],
            "type": "heatmapgl"
           }
          ],
          "histogram": [
           {
            "marker": {
             "pattern": {
              "fillmode": "overlay",
              "size": 10,
              "solidity": 0.2
             }
            },
            "type": "histogram"
           }
          ],
          "histogram2d": [
           {
            "colorbar": {
             "outlinewidth": 0,
             "ticks": ""
            },
            "colorscale": [
             [
              0,
              "#0d0887"
             ],
             [
              0.1111111111111111,
              "#46039f"
             ],
             [
              0.2222222222222222,
              "#7201a8"
             ],
             [
              0.3333333333333333,
              "#9c179e"
             ],
             [
              0.4444444444444444,
              "#bd3786"
             ],
             [
              0.5555555555555556,
              "#d8576b"
             ],
             [
              0.6666666666666666,
              "#ed7953"
             ],
             [
              0.7777777777777778,
              "#fb9f3a"
             ],
             [
              0.8888888888888888,
              "#fdca26"
             ],
             [
              1,
              "#f0f921"
             ]
            ],
            "type": "histogram2d"
           }
          ],
          "histogram2dcontour": [
           {
            "colorbar": {
             "outlinewidth": 0,
             "ticks": ""
            },
            "colorscale": [
             [
              0,
              "#0d0887"
             ],
             [
              0.1111111111111111,
              "#46039f"
             ],
             [
              0.2222222222222222,
              "#7201a8"
             ],
             [
              0.3333333333333333,
              "#9c179e"
             ],
             [
              0.4444444444444444,
              "#bd3786"
             ],
             [
              0.5555555555555556,
              "#d8576b"
             ],
             [
              0.6666666666666666,
              "#ed7953"
             ],
             [
              0.7777777777777778,
              "#fb9f3a"
             ],
             [
              0.8888888888888888,
              "#fdca26"
             ],
             [
              1,
              "#f0f921"
             ]
            ],
            "type": "histogram2dcontour"
           }
          ],
          "mesh3d": [
           {
            "colorbar": {
             "outlinewidth": 0,
             "ticks": ""
            },
            "type": "mesh3d"
           }
          ],
          "parcoords": [
           {
            "line": {
             "colorbar": {
              "outlinewidth": 0,
              "ticks": ""
             }
            },
            "type": "parcoords"
           }
          ],
          "pie": [
           {
            "automargin": true,
            "type": "pie"
           }
          ],
          "scatter": [
           {
            "fillpattern": {
             "fillmode": "overlay",
             "size": 10,
             "solidity": 0.2
            },
            "type": "scatter"
           }
          ],
          "scatter3d": [
           {
            "line": {
             "colorbar": {
              "outlinewidth": 0,
              "ticks": ""
             }
            },
            "marker": {
             "colorbar": {
              "outlinewidth": 0,
              "ticks": ""
             }
            },
            "type": "scatter3d"
           }
          ],
          "scattercarpet": [
           {
            "marker": {
             "colorbar": {
              "outlinewidth": 0,
              "ticks": ""
             }
            },
            "type": "scattercarpet"
           }
          ],
          "scattergeo": [
           {
            "marker": {
             "colorbar": {
              "outlinewidth": 0,
              "ticks": ""
             }
            },
            "type": "scattergeo"
           }
          ],
          "scattergl": [
           {
            "marker": {
             "colorbar": {
              "outlinewidth": 0,
              "ticks": ""
             }
            },
            "type": "scattergl"
           }
          ],
          "scattermapbox": [
           {
            "marker": {
             "colorbar": {
              "outlinewidth": 0,
              "ticks": ""
             }
            },
            "type": "scattermapbox"
           }
          ],
          "scatterpolar": [
           {
            "marker": {
             "colorbar": {
              "outlinewidth": 0,
              "ticks": ""
             }
            },
            "type": "scatterpolar"
           }
          ],
          "scatterpolargl": [
           {
            "marker": {
             "colorbar": {
              "outlinewidth": 0,
              "ticks": ""
             }
            },
            "type": "scatterpolargl"
           }
          ],
          "scatterternary": [
           {
            "marker": {
             "colorbar": {
              "outlinewidth": 0,
              "ticks": ""
             }
            },
            "type": "scatterternary"
           }
          ],
          "surface": [
           {
            "colorbar": {
             "outlinewidth": 0,
             "ticks": ""
            },
            "colorscale": [
             [
              0,
              "#0d0887"
             ],
             [
              0.1111111111111111,
              "#46039f"
             ],
             [
              0.2222222222222222,
              "#7201a8"
             ],
             [
              0.3333333333333333,
              "#9c179e"
             ],
             [
              0.4444444444444444,
              "#bd3786"
             ],
             [
              0.5555555555555556,
              "#d8576b"
             ],
             [
              0.6666666666666666,
              "#ed7953"
             ],
             [
              0.7777777777777778,
              "#fb9f3a"
             ],
             [
              0.8888888888888888,
              "#fdca26"
             ],
             [
              1,
              "#f0f921"
             ]
            ],
            "type": "surface"
           }
          ],
          "table": [
           {
            "cells": {
             "fill": {
              "color": "#EBF0F8"
             },
             "line": {
              "color": "white"
             }
            },
            "header": {
             "fill": {
              "color": "#C8D4E3"
             },
             "line": {
              "color": "white"
             }
            },
            "type": "table"
           }
          ]
         },
         "layout": {
          "annotationdefaults": {
           "arrowcolor": "#2a3f5f",
           "arrowhead": 0,
           "arrowwidth": 1
          },
          "autotypenumbers": "strict",
          "coloraxis": {
           "colorbar": {
            "outlinewidth": 0,
            "ticks": ""
           }
          },
          "colorscale": {
           "diverging": [
            [
             0,
             "#8e0152"
            ],
            [
             0.1,
             "#c51b7d"
            ],
            [
             0.2,
             "#de77ae"
            ],
            [
             0.3,
             "#f1b6da"
            ],
            [
             0.4,
             "#fde0ef"
            ],
            [
             0.5,
             "#f7f7f7"
            ],
            [
             0.6,
             "#e6f5d0"
            ],
            [
             0.7,
             "#b8e186"
            ],
            [
             0.8,
             "#7fbc41"
            ],
            [
             0.9,
             "#4d9221"
            ],
            [
             1,
             "#276419"
            ]
           ],
           "sequential": [
            [
             0,
             "#0d0887"
            ],
            [
             0.1111111111111111,
             "#46039f"
            ],
            [
             0.2222222222222222,
             "#7201a8"
            ],
            [
             0.3333333333333333,
             "#9c179e"
            ],
            [
             0.4444444444444444,
             "#bd3786"
            ],
            [
             0.5555555555555556,
             "#d8576b"
            ],
            [
             0.6666666666666666,
             "#ed7953"
            ],
            [
             0.7777777777777778,
             "#fb9f3a"
            ],
            [
             0.8888888888888888,
             "#fdca26"
            ],
            [
             1,
             "#f0f921"
            ]
           ],
           "sequentialminus": [
            [
             0,
             "#0d0887"
            ],
            [
             0.1111111111111111,
             "#46039f"
            ],
            [
             0.2222222222222222,
             "#7201a8"
            ],
            [
             0.3333333333333333,
             "#9c179e"
            ],
            [
             0.4444444444444444,
             "#bd3786"
            ],
            [
             0.5555555555555556,
             "#d8576b"
            ],
            [
             0.6666666666666666,
             "#ed7953"
            ],
            [
             0.7777777777777778,
             "#fb9f3a"
            ],
            [
             0.8888888888888888,
             "#fdca26"
            ],
            [
             1,
             "#f0f921"
            ]
           ]
          },
          "colorway": [
           "#636efa",
           "#EF553B",
           "#00cc96",
           "#ab63fa",
           "#FFA15A",
           "#19d3f3",
           "#FF6692",
           "#B6E880",
           "#FF97FF",
           "#FECB52"
          ],
          "font": {
           "color": "#2a3f5f"
          },
          "geo": {
           "bgcolor": "white",
           "lakecolor": "white",
           "landcolor": "#E5ECF6",
           "showlakes": true,
           "showland": true,
           "subunitcolor": "white"
          },
          "hoverlabel": {
           "align": "left"
          },
          "hovermode": "closest",
          "mapbox": {
           "style": "light"
          },
          "paper_bgcolor": "white",
          "plot_bgcolor": "#E5ECF6",
          "polar": {
           "angularaxis": {
            "gridcolor": "white",
            "linecolor": "white",
            "ticks": ""
           },
           "bgcolor": "#E5ECF6",
           "radialaxis": {
            "gridcolor": "white",
            "linecolor": "white",
            "ticks": ""
           }
          },
          "scene": {
           "xaxis": {
            "backgroundcolor": "#E5ECF6",
            "gridcolor": "white",
            "gridwidth": 2,
            "linecolor": "white",
            "showbackground": true,
            "ticks": "",
            "zerolinecolor": "white"
           },
           "yaxis": {
            "backgroundcolor": "#E5ECF6",
            "gridcolor": "white",
            "gridwidth": 2,
            "linecolor": "white",
            "showbackground": true,
            "ticks": "",
            "zerolinecolor": "white"
           },
           "zaxis": {
            "backgroundcolor": "#E5ECF6",
            "gridcolor": "white",
            "gridwidth": 2,
            "linecolor": "white",
            "showbackground": true,
            "ticks": "",
            "zerolinecolor": "white"
           }
          },
          "shapedefaults": {
           "line": {
            "color": "#2a3f5f"
           }
          },
          "ternary": {
           "aaxis": {
            "gridcolor": "white",
            "linecolor": "white",
            "ticks": ""
           },
           "baxis": {
            "gridcolor": "white",
            "linecolor": "white",
            "ticks": ""
           },
           "bgcolor": "#E5ECF6",
           "caxis": {
            "gridcolor": "white",
            "linecolor": "white",
            "ticks": ""
           }
          },
          "title": {
           "x": 0.05
          },
          "xaxis": {
           "automargin": true,
           "gridcolor": "white",
           "linecolor": "white",
           "ticks": "",
           "title": {
            "standoff": 15
           },
           "zerolinecolor": "white",
           "zerolinewidth": 2
          },
          "yaxis": {
           "automargin": true,
           "gridcolor": "white",
           "linecolor": "white",
           "ticks": "",
           "title": {
            "standoff": 15
           },
           "zerolinecolor": "white",
           "zerolinewidth": 2
          }
         }
        },
        "width": 800
       }
      }
     },
     "metadata": {},
     "output_type": "display_data"
    }
   ],
   "source": [
    "import plotly.express as px\n",
    "\n",
    "# Agregar la columna de clusters al DataFrame original\n",
    "reduced_data['Cluster'] = reduced_data['Cluster'].astype(str)\n",
    "\n",
    "fig = px.scatter_3d(reduced_data, x='PC1', y='PC2', z='PC3', color='Cluster', opacity=0.7, symbol='Cluster', size_max=8, width=800, height=800)\n",
    "\n",
    "fig.update_layout(scene=dict(\n",
    "    xaxis_title='PC1',\n",
    "    yaxis_title='PC2',\n",
    "    zaxis_title='PC3'\n",
    "))\n",
    "\n",
    "fig.show()"
   ]
  }
 ],
 "metadata": {
  "kernelspec": {
   "display_name": "Python 3",
   "language": "python",
   "name": "python3"
  },
  "language_info": {
   "codemirror_mode": {
    "name": "ipython",
    "version": 3
   },
   "file_extension": ".py",
   "mimetype": "text/x-python",
   "name": "python",
   "nbconvert_exporter": "python",
   "pygments_lexer": "ipython3",
   "version": "3.9.10"
  },
  "orig_nbformat": 4
 },
 "nbformat": 4,
 "nbformat_minor": 2
}
